{
 "cells": [
  {
   "cell_type": "code",
   "execution_count": 4,
   "id": "3ec48537",
   "metadata": {},
   "outputs": [
    {
     "data": {
      "text/plain": [
       "<networkx.classes.graph.Graph at 0x1b3b71b4b50>"
      ]
     },
     "execution_count": 4,
     "metadata": {},
     "output_type": "execute_result"
    }
   ],
   "source": [
    "import networkx as nx\n",
    "import matplotlib.pyplot as plt\n",
    "#create a empty graph without the edge and node\n",
    "G = nx.Graph()\n",
    "G"
   ]
  },
  {
   "cell_type": "markdown",
   "id": "8c9b5369",
   "metadata": {},
   "source": [
    "# nodes(vertex)"
   ]
  },
  {
   "cell_type": "code",
   "execution_count": 5,
   "id": "da59d93b",
   "metadata": {},
   "outputs": [
    {
     "name": "stdout",
     "output_type": "stream",
     "text": [
      "green\n",
      "[1, 3, 'sd', 5, 6]\n",
      "3 nodes: [1, 3, 'sd', 5, 6, 0, 2, 4, 7, 8, 9, 'spam']\n",
      "4 nodes: [1, 3, 'sd', 5, 6, 0, 2, 4, 7, 8, 9, 'spam', 's', 'p', 'a', 'm']\n"
     ]
    },
    {
     "data": {
      "text/plain": [
       "{'color': 'green'}"
      ]
     },
     "execution_count": 5,
     "metadata": {},
     "output_type": "execute_result"
    }
   ],
   "source": [
    "G.clear()\n",
    "G.add_node(1)\n",
    "G.add_node(4)\n",
    "G.add_nodes_from([3,\"sd\"])\n",
    "\n",
    "#add node and node's attribute\n",
    "G.add_nodes_from([\n",
    "    (5,{\"color\":'red'}),\n",
    "    (6,{\"color\":'blue'})\n",
    "])\n",
    "G.nodes['sd']['color'] = 'green'\n",
    "G.remove_node(4)\n",
    "print(G.nodes['sd']['color'])\n",
    "print(G.nodes)\n",
    "\n",
    "#add nodes in another graph to the graph\n",
    "H = nx.path_graph(10)\n",
    "# print(H.nodes)\n",
    "# print(H.edges)\n",
    "G.add_nodes_from(H)\n",
    "G.nodes\n",
    "\n",
    "G.add_node(\"spam\")\n",
    "print(\"3 nodes: \"+ str(G.nodes()))\n",
    "G.add_nodes_from(\"spam\")\n",
    "print(\"4 nodes: \"+ str(G.nodes()))\n",
    "\n",
    "x = list(G.nodes)\n",
    "x[1]\n",
    "\n",
    "G.nodes['sd']"
   ]
  },
  {
   "cell_type": "markdown",
   "id": "cc20e44e",
   "metadata": {},
   "source": [
    "# edge"
   ]
  },
  {
   "cell_type": "code",
   "execution_count": 15,
   "id": "476386f3",
   "metadata": {},
   "outputs": [
    {
     "name": "stdout",
     "output_type": "stream",
     "text": [
      "[]\n",
      "[]\n",
      "1 edges: [(1, 2), (1, 10)]   1\n",
      "2 edges: [(1, 2), (1, 10), (2, 3)]\n",
      "3 nodes: [1, 2, 10, 3, 4, 5, 6, 7]\n",
      "3 edges: [(1, 2), (1, 10), (2, 3), (3, 4), (5, 6), (5, 7)]\n",
      "4 edges: [(1, 2), (1, 10), (1, 0), (2, 3), (3, 4), (4, 5), (5, 6), (5, 7), (6, 7), (7, 8), (8, 9)]\n",
      "5 edge (2,4)'s weight is 7.8\n",
      "5 edge (2,4)'s weight is 7.8\n"
     ]
    },
    {
     "data": {
      "text/plain": [
       "{'color': 'blue'}"
      ]
     },
     "execution_count": 15,
     "metadata": {},
     "output_type": "execute_result"
    }
   ],
   "source": [
    "G.clear()\n",
    "print(G.nodes())\n",
    "print(G.edges())\n",
    "G.add_edge(1,2)\n",
    "G.add_edge(1,10)\n",
    "print(\"1 edges: \"+ str(G.edges)+\"   \"+str(list(G.edges)[0][0]))\n",
    "\n",
    "# unpack edge tuple*\n",
    "e = (2,3)\n",
    "G.add_edge(*e)\n",
    "print(\"2 edges: \"+ str(G.edges))\n",
    "\n",
    "G.add_edges_from([(3,4)])\n",
    "G.add_edges_from([(5,6),(5,7)])\n",
    "# G.remove_edge(3,3)\n",
    "print(\"3 nodes: \"+ str(G.nodes()))\n",
    "print(\"3 edges: \"+ str(G.edges))\n",
    "\n",
    "G.add_edges_from(H.edges)\n",
    "print(\"4 edges: \"+ str(G.edges))\n",
    "\n",
    "#edge weight\n",
    "\n",
    "G.add_edge(2,4,weight = 7.8)\n",
    "print(\"5 edge (2,4)'s weight is \"+ str(G.edges[2,4]['weight']))\n",
    "print(\"5 edge (2,4)'s weight is \"+ str(G[2][4]['weight']))\n",
    "\n",
    "#edge attribute\n",
    "es = [(1, 2, {'color': 'blue'}), (2, 3, {'weight': 8})]\n",
    "N = nx.Graph(es)\n",
    "N[1][2]"
   ]
  },
  {
   "cell_type": "markdown",
   "id": "232b5ce3",
   "metadata": {},
   "source": [
    "# number of edges and nodes"
   ]
  },
  {
   "cell_type": "code",
   "execution_count": 107,
   "id": "ff2ae469",
   "metadata": {},
   "outputs": [
    {
     "name": "stdout",
     "output_type": "stream",
     "text": [
      "8\n"
     ]
    },
    {
     "data": {
      "text/plain": [
       "2"
      ]
     },
     "execution_count": 107,
     "metadata": {},
     "output_type": "execute_result"
    }
   ],
   "source": [
    "nodes = G.number_of_nodes()\n",
    "print(nodes)\n",
    "edges = G.number_of_edges()\n",
    "edges"
   ]
  },
  {
   "cell_type": "markdown",
   "id": "1c08f443",
   "metadata": {},
   "source": [
    "# check the element of graph"
   ]
  },
  {
   "cell_type": "code",
   "execution_count": 171,
   "id": "0cd926d0",
   "metadata": {},
   "outputs": [
    {
     "name": "stdout",
     "output_type": "stream",
     "text": [
      "[1, 2, 3, 'spam', 's', 'p', 'a', 'm']\n",
      "[(1, 2), (1, 3), (3, 'm')]\n",
      "[2, 3]\n",
      "[1, 'm']\n",
      "\n",
      "[(3, 1), (3, 'm')]\n",
      "{1: {'weigth': 11.2}, 'm': {}}\n",
      "\n",
      "[(2, 1), ('m', 3)]\n",
      "[(2, 1), ('m', 1), (3, 2)]\n"
     ]
    }
   ],
   "source": [
    "G.clear()\n",
    "v = [1, 2, 3, 'spam', 's', 'p', 'a', 'm']\n",
    "G.add_nodes_from(v)\n",
    "e = [(1, 2), (1, 3), (3, 'm')]\n",
    "G.add_edges_from(e)\n",
    "\n",
    "#list the nodes and edges\n",
    "print(list(G.nodes))\n",
    "print(list(G.edges))\n",
    "G.edges[1,3]['weigth'] = 11.2\n",
    "\n",
    "# check the neighbour \n",
    "print(list(G.adj[1]))\n",
    "print(list(G.neighbors(3)))\n",
    "G.degree(1)\n",
    "G.degree(2)\n",
    "\n",
    "print()\n",
    "print(G.edges([3]))\n",
    "print(G[3])\n",
    "\n",
    "print()\n",
    "print(G.edges([2,'m']))\n",
    "print(G.degree([2,'m',3]))\n",
    "\n",
    "\n"
   ]
  },
  {
   "cell_type": "markdown",
   "id": "cee40f61",
   "metadata": {},
   "source": [
    "# 使用图形构造函数"
   ]
  },
  {
   "cell_type": "code",
   "execution_count": 185,
   "id": "d1986811",
   "metadata": {},
   "outputs": [
    {
     "name": "stdout",
     "output_type": "stream",
     "text": [
      "[(1, 2), (2, 1), (3, 4), (4, 3)]\n",
      "[0, 1, 2, 3]\n"
     ]
    },
    {
     "data": {
      "text/plain": [
       "EdgeView([(0, 1), (1, 2), (2, 3)])"
      ]
     },
     "execution_count": 185,
     "metadata": {},
     "output_type": "execute_result"
    }
   ],
   "source": [
    "G.clear()\n",
    "G.add_edge(1,2)\n",
    "G.add_edge(3,4)\n",
    "H = nx.DiGraph(G)\n",
    "print(H.edges)\n",
    "\n",
    "edgelist = [(0, 1), (1, 2), (2, 3)]\n",
    "M = nx.Graph(edgelist)\n",
    "print(M.nodes)\n",
    "M.edges()"
   ]
  },
  {
   "cell_type": "markdown",
   "id": "3533973c",
   "metadata": {},
   "source": [
    "# test"
   ]
  },
  {
   "cell_type": "code",
   "execution_count": 1,
   "id": "6ce10efd",
   "metadata": {},
   "outputs": [
    {
     "ename": "NameError",
     "evalue": "name 'nx' is not defined",
     "output_type": "error",
     "traceback": [
      "\u001b[1;31m---------------------------------------------------------------------------\u001b[0m",
      "\u001b[1;31mNameError\u001b[0m                                 Traceback (most recent call last)",
      "\u001b[1;32m~\\AppData\\Local\\Temp/ipykernel_12264/3245348233.py\u001b[0m in \u001b[0;36m<module>\u001b[1;34m\u001b[0m\n\u001b[0;32m      1\u001b[0m edges = (('a','b',{'weight':1}),('a','c',{'weight':1}),('d','b',{'weight':1}),\n\u001b[0;32m      2\u001b[0m          ('c','d',{'weight':10}),('c','f',{'weight':1}),('f','d',{'weight':1}))\n\u001b[1;32m----> 3\u001b[1;33m \u001b[0mG\u001b[0m \u001b[1;33m=\u001b[0m \u001b[0mnx\u001b[0m\u001b[1;33m.\u001b[0m\u001b[0mGraph\u001b[0m\u001b[1;33m(\u001b[0m\u001b[0medges\u001b[0m\u001b[1;33m)\u001b[0m\u001b[1;33m\u001b[0m\u001b[1;33m\u001b[0m\u001b[0m\n\u001b[0m\u001b[0;32m      4\u001b[0m \u001b[0mweight\u001b[0m \u001b[1;33m=\u001b[0m \u001b[1;34m'weight'\u001b[0m\u001b[1;33m\u001b[0m\u001b[1;33m\u001b[0m\u001b[0m\n\u001b[0;32m      5\u001b[0m \u001b[0mG_prime\u001b[0m \u001b[1;33m=\u001b[0m \u001b[0mnx\u001b[0m\u001b[1;33m.\u001b[0m\u001b[0mspanner\u001b[0m\u001b[1;33m(\u001b[0m\u001b[0mG\u001b[0m\u001b[1;33m,\u001b[0m\u001b[1;36m3.0\u001b[0m\u001b[1;33m,\u001b[0m\u001b[0mweight\u001b[0m\u001b[1;33m)\u001b[0m\u001b[1;33m\u001b[0m\u001b[1;33m\u001b[0m\u001b[0m\n",
      "\u001b[1;31mNameError\u001b[0m: name 'nx' is not defined"
     ]
    }
   ],
   "source": [
    "edges = (('a','b',{'weight':1}),('a','c',{'weight':1}),('d','b',{'weight':1}),\n",
    "         ('c','d',{'weight':10}),('c','f',{'weight':1}),('f','d',{'weight':1}))\n",
    "G = nx.Graph(edges)\n",
    "weight = 'weight'\n",
    "G_prime = nx.spanner(G,3.0,weight)\n",
    "print(G.edges)\n",
    "print(G_prime.edges)\n",
    "\n",
    "\n",
    "pos = nx.spring_layout(G)\n",
    "nx.draw(G_prime,pos,with_labels=True)\n",
    "edge_labels = nx.get_edge_attributes(G_prime,'weight')\n",
    "nx.draw_networkx_edge_labels(G,pos,edge_labels=edge_labels)\n",
    "plt.show()"
   ]
  },
  {
   "cell_type": "markdown",
   "id": "686a9a91",
   "metadata": {},
   "source": [
    "# Greedy algorithm"
   ]
  },
  {
   "cell_type": "code",
   "execution_count": 35,
   "id": "8ddd8f6c",
   "metadata": {},
   "outputs": [],
   "source": [
    "import networkx as nx\n",
    "import matplotlib.pyplot as plt\n",
    "\n",
    "\n",
    "def greedy(G,t,weight=None):\n",
    "    edges = list(G.edges)\n",
    "    weighted_edges = sorted(G.edges(data=True), key=lambda t: t[2].get(weight, 1))\n",
    "    nodes = list(G.nodes)\n",
    "    \n",
    "    G_prime = nx.Graph()\n",
    "    G_prime.add_nodes_from(nodes)\n",
    "    print(G_prime)\n",
    "    for edge in weighted_edges:\n",
    "#         print(\"========\")\n",
    "#         print(edge)\n",
    "#         print(edge[0]+edge[1]+ weight)\n",
    "        try:\n",
    "            shortest_dist = nx.dijkstra_path_length(G_prime,edge[0],edge[1],weight)\n",
    "        except Exception:\n",
    "            shortest_dist = float('inf')\n",
    "#         print(shortest_dist)\n",
    "#         print(t * (G[edge[0]][edge[1]][weight]) )\n",
    "        \n",
    "        if(shortest_dist > t * (G[edge[0]][edge[1]][weight]) ):\n",
    "#             print(\"added\")\n",
    "            add_edge = [(edge[0],edge[1],{weight :(G[edge[0]][edge[1]][weight]) })]\n",
    "            G_prime.add_edges_from(add_edge)\n",
    "#         print(G_prime.edges)\n",
    "#         print(\"========\")\n",
    "#     print(G_prime.edges)\n",
    "    return G_prime\n",
    "\n",
    "        \n",
    "    \n",
    "        \n",
    "    \n"
   ]
  },
  {
   "cell_type": "code",
   "execution_count": 36,
   "id": "758c1911",
   "metadata": {},
   "outputs": [
    {
     "name": "stdout",
     "output_type": "stream",
     "text": [
      "Graph with 5 nodes and 0 edges\n",
      "Graph with 5 nodes and 5 edges\n",
      "[('a', 'b', {'weight': 100}), ('a', 'c', {'weight': 100}), ('b', 'd', {'weight': 100}), ('c', 'f', {'weight': 100}), ('d', 'f', {'weight': 100})]\n"
     ]
    }
   ],
   "source": [
    "edges = (('a','b',{'weight':1}),('a','c',{'weight':1}),('d','b',{'weight':1}),\n",
    "         ('c','d',{'weight':10}),('c','f',{'weight':4}),('f','d',{'weight':1}))\n",
    "# edges = (('a','b'),('a','c'),('d','b'),\n",
    "#          ('c','d'),('c','f'),('f','d'))\n",
    "G.clear()\n",
    "edges = (('a','b',{'weight':100}),('a','c',{'weight':100}),('d','b',{'weight':100}),\n",
    "         ('c','d',{'weight':1000}),('c','f',{'weight':100}),('f','d',{'weight':100}))\n",
    "G = nx.Graph(edges)\n",
    "\n",
    "# dis = nx.dijkstra_path_length(G,'a','h',weight=\"weight\")\n",
    "G_prime = greedy(G,3,\"weight\")\n",
    "print(G_prime)\n",
    "print(G_prime.edges(data = True))\n",
    "# paths = nx.all_shortest_paths(G,'f','c','weight')\n"
   ]
  },
  {
   "cell_type": "code",
   "execution_count": 147,
   "id": "21aec4b3",
   "metadata": {},
   "outputs": [
    {
     "data": {
      "text/plain": [
       "True"
      ]
     },
     "execution_count": 147,
     "metadata": {},
     "output_type": "execute_result"
    }
   ],
   "source": [
    "a = float(\"inf\")\n",
    "b =3\n",
    "a>b"
   ]
  },
  {
   "cell_type": "markdown",
   "id": "4f323942",
   "metadata": {},
   "source": [
    "# Probabilistic algorithm"
   ]
  },
  {
   "cell_type": "code",
   "execution_count": 30,
   "id": "8560b68c",
   "metadata": {},
   "outputs": [],
   "source": [
    "import networkx as nx\n",
    "import numpy as np\n",
    "import math\n",
    "def pro(G,k,c,weight=None):\n",
    "    N = G.number_of_nodes()\n",
    "    lam = math.log(c*N)/k\n",
    "    print(lam)\n",
    "    for node in G.nodes:\n",
    "        ru = np.random.exponential(lam)\n",
    "        print(ru)\n",
    "        \n",
    "    "
   ]
  },
  {
   "cell_type": "code",
   "execution_count": 31,
   "id": "645dcbd8",
   "metadata": {},
   "outputs": [
    {
     "data": {
      "text/plain": [
       "2.302585092994046"
      ]
     },
     "execution_count": 31,
     "metadata": {},
     "output_type": "execute_result"
    }
   ],
   "source": [
    "math.log(10)"
   ]
  },
  {
   "cell_type": "code",
   "execution_count": 34,
   "id": "531bf0a6",
   "metadata": {},
   "outputs": [
    {
     "name": "stdout",
     "output_type": "stream",
     "text": [
      "2.839064397138746\n",
      "4.137307946587281\n",
      "0.19255744842809108\n",
      "2.218424525655649\n",
      "2.0489755803333276\n",
      "2.2611136265080694\n"
     ]
    }
   ],
   "source": [
    "edges = (('a','b',{'weight':1}),('a','c',{'weight':1}),('d','b',{'weight':1}),\n",
    "         ('c','d',{'weight':10}),('c','f',{'weight':1}),('f','d',{'weight':1}))\n",
    "# edges = (('a','b'),('a','c'),('d','b'),\n",
    "#          ('c','d'),('c','f'),('f','d'))\n",
    "\n",
    "G = nx.Graph(edges)\n",
    "pro(G,3,1000,weight='weight')"
   ]
  }
 ],
 "metadata": {
  "kernelspec": {
   "display_name": "Python 3 (ipykernel)",
   "language": "python",
   "name": "python3"
  },
  "language_info": {
   "codemirror_mode": {
    "name": "ipython",
    "version": 3
   },
   "file_extension": ".py",
   "mimetype": "text/x-python",
   "name": "python",
   "nbconvert_exporter": "python",
   "pygments_lexer": "ipython3",
   "version": "3.9.7"
  },
  "toc": {
   "base_numbering": 1,
   "nav_menu": {},
   "number_sections": true,
   "sideBar": true,
   "skip_h1_title": false,
   "title_cell": "Table of Contents",
   "title_sidebar": "Contents",
   "toc_cell": false,
   "toc_position": {
    "height": "calc(100% - 180px)",
    "left": "10px",
    "top": "150px",
    "width": "204.8px"
   },
   "toc_section_display": true,
   "toc_window_display": false
  }
 },
 "nbformat": 4,
 "nbformat_minor": 5
}
