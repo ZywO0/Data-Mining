{
 "cells": [
  {
   "cell_type": "code",
   "execution_count": 2,
   "id": "1ace3067",
   "metadata": {},
   "outputs": [
    {
     "data": {
      "text/plain": [
       "<networkx.classes.graph.Graph at 0x2426b8595b0>"
      ]
     },
     "execution_count": 2,
     "metadata": {},
     "output_type": "execute_result"
    }
   ],
   "source": [
    "import networkx as nx\n",
    "import matplotlib.pyplot as plt\n",
    "#create a empty graph without the edge and node\n",
    "G = nx.Graph()\n",
    "G"
   ]
  },
  {
   "cell_type": "markdown",
   "id": "0d9b6ae2",
   "metadata": {},
   "source": [
    "# nodes(vertex)"
   ]
  },
  {
   "cell_type": "code",
   "execution_count": 5,
   "id": "36970003",
   "metadata": {},
   "outputs": [
    {
     "name": "stdout",
     "output_type": "stream",
     "text": [
      "green\n",
      "[1, 3, 'sd', 5, 6]\n",
      "3 nodes: [1, 3, 'sd', 5, 6, 0, 2, 4, 7, 8, 9, 'spam']\n",
      "4 nodes: [1, 3, 'sd', 5, 6, 0, 2, 4, 7, 8, 9, 'spam', 's', 'p', 'a', 'm']\n"
     ]
    },
    {
     "data": {
      "text/plain": [
       "{'color': 'green'}"
      ]
     },
     "execution_count": 5,
     "metadata": {},
     "output_type": "execute_result"
    }
   ],
   "source": [
    "G.clear()\n",
    "G.add_node(1)\n",
    "G.add_node(4)\n",
    "G.add_nodes_from([3,\"sd\"])\n",
    "\n",
    "#add node and node's attribute\n",
    "G.add_nodes_from([\n",
    "    (5,{\"color\":'red'}),\n",
    "    (6,{\"color\":'blue'})\n",
    "])\n",
    "G.nodes['sd']['color'] = 'green'\n",
    "G.remove_node(4)\n",
    "print(G.nodes['sd']['color'])\n",
    "print(G.nodes)\n",
    "\n",
    "#add nodes in another graph to the graph\n",
    "H = nx.path_graph(10)\n",
    "# print(H.nodes)\n",
    "# print(H.edges)\n",
    "G.add_nodes_from(H)\n",
    "G.nodes\n",
    "\n",
    "G.add_node(\"spam\")\n",
    "print(\"3 nodes: \"+ str(G.nodes()))\n",
    "G.add_nodes_from(\"spam\")\n",
    "print(\"4 nodes: \"+ str(G.nodes()))\n",
    "\n",
    "x = list(G.nodes)\n",
    "x[1]\n",
    "\n",
    "G.nodes['sd']"
   ]
  },
  {
   "cell_type": "markdown",
   "id": "d038149d",
   "metadata": {},
   "source": [
    "# edge"
   ]
  },
  {
   "cell_type": "code",
   "execution_count": 15,
   "id": "0e29cf06",
   "metadata": {},
   "outputs": [
    {
     "name": "stdout",
     "output_type": "stream",
     "text": [
      "[]\n",
      "[]\n",
      "1 edges: [(1, 2), (1, 10)]   1\n",
      "2 edges: [(1, 2), (1, 10), (2, 3)]\n",
      "3 nodes: [1, 2, 10, 3, 4, 5, 6, 7]\n",
      "3 edges: [(1, 2), (1, 10), (2, 3), (3, 4), (5, 6), (5, 7)]\n",
      "4 edges: [(1, 2), (1, 10), (1, 0), (2, 3), (3, 4), (4, 5), (5, 6), (5, 7), (6, 7), (7, 8), (8, 9)]\n",
      "5 edge (2,4)'s weight is 7.8\n",
      "5 edge (2,4)'s weight is 7.8\n"
     ]
    },
    {
     "data": {
      "text/plain": [
       "{'color': 'blue'}"
      ]
     },
     "execution_count": 15,
     "metadata": {},
     "output_type": "execute_result"
    }
   ],
   "source": [
    "G.clear()\n",
    "print(G.nodes())\n",
    "print(G.edges())\n",
    "G.add_edge(1,2)\n",
    "G.add_edge(1,10)\n",
    "print(\"1 edges: \"+ str(G.edges)+\"   \"+str(list(G.edges)[0][0]))\n",
    "\n",
    "# unpack edge tuple*\n",
    "e = (2,3)\n",
    "G.add_edge(*e)\n",
    "print(\"2 edges: \"+ str(G.edges))\n",
    "\n",
    "G.add_edges_from([(3,4)])\n",
    "G.add_edges_from([(5,6),(5,7)])\n",
    "# G.remove_edge(3,3)\n",
    "print(\"3 nodes: \"+ str(G.nodes()))\n",
    "print(\"3 edges: \"+ str(G.edges))\n",
    "\n",
    "G.add_edges_from(H.edges)\n",
    "print(\"4 edges: \"+ str(G.edges))\n",
    "\n",
    "#edge weight\n",
    "\n",
    "G.add_edge(2,4,weight = 7.8)\n",
    "print(\"5 edge (2,4)'s weight is \"+ str(G.edges[2,4]['weight']))\n",
    "print(\"5 edge (2,4)'s weight is \"+ str(G[2][4]['weight']))\n",
    "\n",
    "#edge attribute\n",
    "es = [(1, 2, {'color': 'blue'}), (2, 3, {'weight': 8})]\n",
    "N = nx.Graph(es)\n",
    "N[1][2]"
   ]
  },
  {
   "cell_type": "markdown",
   "id": "6b83e6e6",
   "metadata": {},
   "source": [
    "# number of edges and nodes"
   ]
  },
  {
   "cell_type": "code",
   "execution_count": 107,
   "id": "6746d03e",
   "metadata": {},
   "outputs": [
    {
     "name": "stdout",
     "output_type": "stream",
     "text": [
      "8\n"
     ]
    },
    {
     "data": {
      "text/plain": [
       "2"
      ]
     },
     "execution_count": 107,
     "metadata": {},
     "output_type": "execute_result"
    }
   ],
   "source": [
    "nodes = G.number_of_nodes()\n",
    "print(nodes)\n",
    "edges = G.number_of_edges()\n",
    "edges"
   ]
  },
  {
   "cell_type": "markdown",
   "id": "ee507d25",
   "metadata": {},
   "source": [
    "# check the element of graph"
   ]
  },
  {
   "cell_type": "code",
   "execution_count": 257,
   "id": "7cf8f877",
   "metadata": {},
   "outputs": [
    {
     "name": "stdout",
     "output_type": "stream",
     "text": [
      "[1, 2, 3, 'spam', 's', 'p', 'a', 'm']\n",
      "[(1, 2), (1, 3), (3, 'm')]\n",
      "adj is\n",
      "[2, 3]\n",
      "[1, 'm']\n",
      "\n",
      "[(3, 1), (3, 'm')]\n",
      "{1: {'weigth': 11.2}, 'm': {}}\n",
      "\n",
      "[(2, 1), ('m', 3)]\n",
      "[(2, 1), ('m', 1), (3, 2)]\n"
     ]
    }
   ],
   "source": [
    "G.clear()\n",
    "v = [1, 2, 3, 'spam', 's', 'p', 'a', 'm']\n",
    "G.add_nodes_from(v)\n",
    "e = [(1, 2), (1, 3), (3, 'm')]\n",
    "G.add_edges_from(e)\n",
    "\n",
    "#list the nodes and edges\n",
    "print(list(G.nodes))\n",
    "print(list(G.edges))\n",
    "G.edges[1,3]['weigth'] = 11.2\n",
    "\n",
    "# check the neighbour \n",
    "print('adj is')\n",
    "print(list(G.adj[1]))\n",
    "print(list(G.neighbors(3)))\n",
    "G.degree(1)\n",
    "G.degree(2)\n",
    "\n",
    "print()\n",
    "print(G.edges([3]))\n",
    "print(G[3])\n",
    "\n",
    "print()\n",
    "print(G.edges([2,'m']))\n",
    "print(G.degree([2,'m',3]))\n",
    "\n",
    "\n"
   ]
  },
  {
   "cell_type": "markdown",
   "id": "d9478cab",
   "metadata": {},
   "source": [
    "# 使用图形构造函数"
   ]
  },
  {
   "cell_type": "code",
   "execution_count": 185,
   "id": "85826e97",
   "metadata": {},
   "outputs": [
    {
     "name": "stdout",
     "output_type": "stream",
     "text": [
      "[(1, 2), (2, 1), (3, 4), (4, 3)]\n",
      "[0, 1, 2, 3]\n"
     ]
    },
    {
     "data": {
      "text/plain": [
       "EdgeView([(0, 1), (1, 2), (2, 3)])"
      ]
     },
     "execution_count": 185,
     "metadata": {},
     "output_type": "execute_result"
    }
   ],
   "source": [
    "G.clear()\n",
    "G.add_edge(1,2)\n",
    "G.add_edge(3,4)\n",
    "H = nx.DiGraph(G)\n",
    "print(H.edges)\n",
    "\n",
    "edgelist = [(0, 1), (1, 2), (2, 3)]\n",
    "M = nx.Graph(edgelist)\n",
    "print(M.nodes)\n",
    "M.edges()"
   ]
  },
  {
   "cell_type": "markdown",
   "id": "3d1aa269",
   "metadata": {},
   "source": [
    "# test"
   ]
  },
  {
   "cell_type": "code",
   "execution_count": 3,
   "id": "f0b253ba",
   "metadata": {},
   "outputs": [
    {
     "name": "stdout",
     "output_type": "stream",
     "text": [
      "[('a', 'b'), ('a', 'c'), ('b', 'd'), ('c', 'd'), ('c', 'f'), ('d', 'f')]\n",
      "[('a', 'c'), ('a', 'b'), ('b', 'd'), ('c', 'd'), ('c', 'f'), ('d', 'f')]\n"
     ]
    },
    {
     "name": "stderr",
     "output_type": "stream",
     "text": [
      "D:\\Anaconda\\Anaconda3\\lib\\site-packages\\networkx\\drawing\\nx_pylab.py:579: MatplotlibDeprecationWarning: \n",
      "The iterable function was deprecated in Matplotlib 3.1 and will be removed in 3.3. Use np.iterable instead.\n",
      "  if not cb.iterable(width):\n"
     ]
    },
    {
     "data": {
      "image/png": "[encoded data removed]",
      "text/plain": [
       "<Figure size 432x288 with 1 Axes>"
      ]
     },
     "metadata": {},
     "output_type": "display_data"
    }
   ],
   "source": [
    "edges = (('a','b',{'weight':1}),('a','c',{'weight':1}),('d','b',{'weight':1}),\n",
    "         ('c','d',{'weight':10}),('c','f',{'weight':1}),('f','d',{'weight':1}))\n",
    "G = nx.Graph(edges)\n",
    "weight = 'weight'\n",
    "G_prime = nx.spanner(G,3.0,weight)\n",
    "print(G.edges)\n",
    "print(G_prime.edges)\n",
    "\n",
    "\n",
    "pos = nx.spring_layout(G)\n",
    "nx.draw(G_prime,pos,with_labels=True)\n",
    "edge_labels = nx.get_edge_attributes(G_prime,'weight')\n",
    "nx.draw_networkx_edge_labels(G,pos,edge_labels=edge_labels)\n",
    "plt.show()"
   ]
  },
  {
   "cell_type": "markdown",
   "id": "cc935b73",
   "metadata": {},
   "source": [
    "# Greedy algorithm"
   ]
  },
  {
   "cell_type": "code",
   "execution_count": 35,
   "id": "0941b9c1",
   "metadata": {},
   "outputs": [],
   "source": [
    "import networkx as nx\n",
    "import matplotlib.pyplot as plt\n",
    "\n",
    "\n",
    "def greedy(G,t,weight=None):\n",
    "    edges = list(G.edges)\n",
    "    weighted_edges = sorted(G.edges(data=True), key=lambda t: t[2].get(weight, 1))\n",
    "    nodes = list(G.nodes)\n",
    "    \n",
    "    G_prime = nx.Graph()\n",
    "    G_prime.add_nodes_from(nodes)\n",
    "    print(G_prime)\n",
    "    for edge in weighted_edges:\n",
    "#         print(\"========\")\n",
    "#         print(edge)\n",
    "#         print(edge[0]+edge[1]+ weight)\n",
    "        try:\n",
    "            shortest_dist = nx.dijkstra_path_length(G_prime,edge[0],edge[1],weight)\n",
    "        except Exception:\n",
    "            shortest_dist = float('inf')\n",
    "#         print(shortest_dist)\n",
    "#         print(t * (G[edge[0]][edge[1]][weight]) )\n",
    "        \n",
    "        if(shortest_dist > t * (G[edge[0]][edge[1]][weight]) ):\n",
    "#             print(\"added\")\n",
    "            add_edge = [(edge[0],edge[1],{weight :(G[edge[0]][edge[1]][weight]) })]\n",
    "            G_prime.add_edges_from(add_edge)\n",
    "#         print(G_prime.edges)\n",
    "#         print(\"========\")\n",
    "#     print(G_prime.edges)\n",
    "    return G_prime\n",
    "\n",
    "        \n",
    "    \n",
    "        \n",
    "    \n"
   ]
  },
  {
   "cell_type": "code",
   "execution_count": 36,
   "id": "1862ffc9",
   "metadata": {},
   "outputs": [
    {
     "name": "stdout",
     "output_type": "stream",
     "text": [
      "Graph with 5 nodes and 0 edges\n",
      "Graph with 5 nodes and 5 edges\n",
      "[('a', 'b', {'weight': 100}), ('a', 'c', {'weight': 100}), ('b', 'd', {'weight': 100}), ('c', 'f', {'weight': 100}), ('d', 'f', {'weight': 100})]\n"
     ]
    }
   ],
   "source": [
    "edges = (('a','b',{'weight':1}),('a','c',{'weight':1}),('d','b',{'weight':1}),\n",
    "         ('c','d',{'weight':10}),('c','f',{'weight':4}),('f','d',{'weight':1}))\n",
    "# edges = (('a','b'),('a','c'),('d','b'),\n",
    "#          ('c','d'),('c','f'),('f','d'))\n",
    "G.clear()\n",
    "edges = (('a','b',{'weight':100}),('a','c',{'weight':100}),('d','b',{'weight':100}),\n",
    "         ('c','d',{'weight':1000}),('c','f',{'weight':100}),('f','d',{'weight':100}))\n",
    "G = nx.Graph(edges)\n",
    "\n",
    "# dis = nx.dijkstra_path_length(G,'a','h',weight=\"weight\")\n",
    "G_prime = greedy(G,3,\"weight\")\n",
    "print(G_prime)\n",
    "print(G_prime.edges(data = True))\n",
    "# paths = nx.all_shortest_paths(G,'f','c','weight')\n"
   ]
  },
  {
   "cell_type": "code",
   "execution_count": 122,
   "id": "edff6111",
   "metadata": {},
   "outputs": [
    {
     "name": "stdout",
     "output_type": "stream",
     "text": [
      "a\n",
      "c\n",
      "d\n",
      "e\n"
     ]
    }
   ],
   "source": [
    "dics = {'a': (-0.11090954762424177, 'a'), 'c': (0.9156467538318398, 'a'), \n",
    "        'd': (-0.3738376259068926, 'd'), 'e': (-1.6262791334933406, 'd')}\n",
    "c = min(\n",
    "                    dics, key=lambda k: dics[k][0]\n",
    "                )\n",
    "for x in dics.keys():\n",
    "    print(x)"
   ]
  },
  {
   "cell_type": "markdown",
   "id": "24cf3a07",
   "metadata": {},
   "source": [
    "# Probabilistic algorithm"
   ]
  },
  {
   "cell_type": "code",
   "execution_count": 218,
   "id": "5267043a",
   "metadata": {},
   "outputs": [],
   "source": [
    "import networkx as nx\n",
    "import numpy as np\n",
    "import math\n",
    "def pro(G,K,c=4,weight=None):\n",
    "    k = math.floor((K +1)/2)\n",
    "    N = G.number_of_nodes()\n",
    "    lam = k/math.log(c*N)\n",
    "    nodes = list(G.nodes)\n",
    "    \n",
    "    G_prime = nx.Graph()\n",
    "    G_prime.add_nodes_from(nodes)\n",
    "\n",
    "    for t in range(1):\n",
    "#     m_u_x = [[() for j in range (len(G.nodes))] for i in range (len(G.nodes))]\n",
    "        mux = {}\n",
    "        for u in range(len(G.nodes)):\n",
    "            ru = np.random.exponential(lam)\n",
    "            while(ru>k):\n",
    "                ru = np.random.exponential(lam)\n",
    "            \n",
    "            for x in range(len(G.nodes)):\n",
    "                if u == x:\n",
    "                    continue\n",
    "                if(nx.dijkstra_path_length(G,nodes[u],nodes[x],weight) <= k):\n",
    "                    p_u_x = nx.dijkstra_path(G,nodes[x],nodes[u],weight)[1]\n",
    "                    mux.setdefault(nodes[x], {})[nodes[u]] = ((ru - nx.dijkstra_path_length(G,nodes[x],nodes[u],weight)),p_u_x)\n",
    "    #                 m_u_x[x][i] = ((ru - nx.dijkstra_path_length(G,nodes[x],nodes[i],weight)),p_u_x)\n",
    "#         print(\"===\")\n",
    "\n",
    "    #     for x in mux:\n",
    "\n",
    "    #         m_x = max(mux[x])[0]\n",
    "    #         u = max(mux[x])[1]\n",
    "    #         dis = nx.dijkstra_path_length(G,u,x,weight)\n",
    "    #         if dis >= k:\n",
    "#         print(mux)\n",
    "    #             print(\"x is {} u is {} and dis is {}\".format(x,u, dis))\n",
    "#         print(\"===\")\n",
    "    #     print(mux.values())\n",
    "        m_x = {}\n",
    "        for x in mux.keys():\n",
    "            u =  max(\n",
    "                        mux[x], key=lambda k: mux[x][k][0]\n",
    "                    )\n",
    "            m_x[x] = mux[x][u][0]\n",
    "#         print(\"mx is {}\".format(m_x))\n",
    "    #     print(mux[x][u][0])\n",
    "#         for u in G.nodes:\n",
    "        for x in mux.keys():\n",
    "            for u in mux[x].keys():\n",
    "#                 if(u in mux[x].keys()):\n",
    "                if(mux[x][u][0] >= m_x[x] - 1 ):\n",
    "                    G_prime.add_edge(x,mux[x][u][1])\n",
    "    \n",
    "    \n",
    "    \n",
    "#     closest_center = min(\n",
    "#                     neighboring_sampled_centers, key=lightest_edge_weight.get\n",
    "#                 )\n",
    "#     for x in range(len(G.nodes)):\n",
    "#         m_x = max(m_u_x[x])[0]\n",
    "#         for u in range(len(G.nodes)): \n",
    "#             if(len(m_u_x[x][u])>0):\n",
    "#                 if(m_u_x[x][u][0] >= m_x - 1):\n",
    "#                     G_prime.add_edge(nodes[x],m_u_x[x][u][1])\n",
    "#                     G_prime[nodes[x]][m_u_x[x][u][1]]['weight'] = 1\n",
    "                    \n",
    "    return G_prime\n",
    "    "
   ]
  },
  {
   "cell_type": "code",
   "execution_count": 220,
   "id": "4e8d65ab",
   "metadata": {},
   "outputs": [
    {
     "name": "stdout",
     "output_type": "stream",
     "text": [
      "[('a', 'b'), ('a', 'c'), ('c', 'e'), ('c', 'd')]\n"
     ]
    },
    {
     "data": {
      "image/png": "[encoded data removed]",
      "text/plain": [
       "<Figure size 432x288 with 1 Axes>"
      ]
     },
     "metadata": {},
     "output_type": "display_data"
    },
    {
     "name": "stdout",
     "output_type": "stream",
     "text": [
      "1089\n",
      "[('a', 'b'), ('b', 'd'), ('c', 'd'), ('d', 'e')]\n"
     ]
    },
    {
     "data": {
      "image/png": "[encoded data removed]",
      "text/plain": [
       "<Figure size 432x288 with 1 Axes>"
      ]
     },
     "metadata": {},
     "output_type": "display_data"
    },
    {
     "name": "stdout",
     "output_type": "stream",
     "text": [
      "5449\n",
      "[('a', 'b'), ('b', 'd'), ('c', 'd'), ('d', 'e')]\n"
     ]
    },
    {
     "data": {
      "image/png": "[encoded data removed]",
      "text/plain": [
       "<Figure size 432x288 with 1 Axes>"
      ]
     },
     "metadata": {},
     "output_type": "display_data"
    },
    {
     "name": "stdout",
     "output_type": "stream",
     "text": [
      "12251\n",
      "[('a', 'b'), ('b', 'd'), ('c', 'd'), ('d', 'e')]\n"
     ]
    },
    {
     "data": {
      "image/png": "[encoded data removed]",
      "text/plain": [
       "<Figure size 432x288 with 1 Axes>"
      ]
     },
     "metadata": {},
     "output_type": "display_data"
    },
    {
     "name": "stdout",
     "output_type": "stream",
     "text": [
      "12547\n",
      "[('a', 'b'), ('b', 'd'), ('c', 'd'), ('d', 'e')]\n"
     ]
    },
    {
     "data": {
      "image/png": "[encoded data removed]",
      "text/plain": [
       "<Figure size 432x288 with 1 Axes>"
      ]
     },
     "metadata": {},
     "output_type": "display_data"
    },
    {
     "name": "stdout",
     "output_type": "stream",
     "text": [
      "18724\n",
      "[('a', 'b'), ('a', 'c'), ('c', 'd'), ('c', 'e')]\n"
     ]
    },
    {
     "data": {
      "image/png": "[encoded data removed]",
      "text/plain": [
       "<Figure size 432x288 with 1 Axes>"
      ]
     },
     "metadata": {},
     "output_type": "display_data"
    },
    {
     "name": "stdout",
     "output_type": "stream",
     "text": [
      "18884\n",
      "[('a', 'b'), ('a', 'c'), ('c', 'd'), ('c', 'e')]\n"
     ]
    },
    {
     "data": {
      "image/png": "[encoded data removed]",
      "text/plain": [
       "<Figure size 432x288 with 1 Axes>"
      ]
     },
     "metadata": {},
     "output_type": "display_data"
    },
    {
     "name": "stdout",
     "output_type": "stream",
     "text": [
      "19322\n",
      "[('a', 'b'), ('b', 'd'), ('c', 'd'), ('d', 'e')]\n"
     ]
    },
    {
     "data": {
      "image/png": "[encoded data removed]",
      "text/plain": [
       "<Figure size 432x288 with 1 Axes>"
      ]
     },
     "metadata": {},
     "output_type": "display_data"
    },
    {
     "name": "stdout",
     "output_type": "stream",
     "text": [
      "19627\n",
      "[('a', 'b'), ('b', 'd'), ('c', 'd'), ('d', 'e')]\n"
     ]
    },
    {
     "data": {
      "image/png": "[encoded data removed]",
      "text/plain": [
       "<Figure size 432x288 with 1 Axes>"
      ]
     },
     "metadata": {},
     "output_type": "display_data"
    },
    {
     "name": "stdout",
     "output_type": "stream",
     "text": [
      "23947\n",
      "[('a', 'b'), ('b', 'd'), ('c', 'd'), ('d', 'e')]\n"
     ]
    },
    {
     "data": {
      "image/png": "[encoded data removed]",
      "text/plain": [
       "<Figure size 432x288 with 1 Axes>"
      ]
     },
     "metadata": {},
     "output_type": "display_data"
    },
    {
     "name": "stdout",
     "output_type": "stream",
     "text": [
      "25240\n",
      "[('a', 'b'), ('a', 'c'), ('c', 'd'), ('c', 'e')]\n"
     ]
    },
    {
     "data": {
      "image/png": "[encoded data removed]",
      "text/plain": [
       "<Figure size 432x288 with 1 Axes>"
      ]
     },
     "metadata": {},
     "output_type": "display_data"
    },
    {
     "name": "stdout",
     "output_type": "stream",
     "text": [
      "25396\n",
      "[('a', 'b'), ('a', 'c'), ('c', 'e'), ('c', 'd')]\n"
     ]
    },
    {
     "data": {
      "image/png": "[encoded data removed]",
      "text/plain": [
       "<Figure size 432x288 with 1 Axes>"
      ]
     },
     "metadata": {},
     "output_type": "display_data"
    },
    {
     "name": "stdout",
     "output_type": "stream",
     "text": [
      "31015\n",
      "[('a', 'b'), ('b', 'd'), ('c', 'd'), ('d', 'e')]\n"
     ]
    },
    {
     "data": {
      "image/png": "[encoded data removed]",
      "text/plain": [
       "<Figure size 432x288 with 1 Axes>"
      ]
     },
     "metadata": {},
     "output_type": "display_data"
    },
    {
     "name": "stdout",
     "output_type": "stream",
     "text": [
      "31545\n",
      "[('a', 'b'), ('b', 'd'), ('c', 'd'), ('d', 'e')]\n"
     ]
    },
    {
     "data": {
      "image/png": "[encoded data removed]",
      "text/plain": [
       "<Figure size 432x288 with 1 Axes>"
      ]
     },
     "metadata": {},
     "output_type": "display_data"
    },
    {
     "name": "stdout",
     "output_type": "stream",
     "text": [
      "33123\n",
      "[('a', 'b'), ('b', 'd'), ('c', 'd'), ('d', 'e')]\n"
     ]
    },
    {
     "data": {
      "image/png": "[encoded data removed]",
      "text/plain": [
       "<Figure size 432x288 with 1 Axes>"
      ]
     },
     "metadata": {},
     "output_type": "display_data"
    },
    {
     "name": "stdout",
     "output_type": "stream",
     "text": [
      "35436\n",
      "[('a', 'b'), ('b', 'd'), ('c', 'd'), ('d', 'e')]\n"
     ]
    },
    {
     "data": {
      "image/png": "[encoded data removed]",
      "text/plain": [
       "<Figure size 432x288 with 1 Axes>"
      ]
     },
     "metadata": {},
     "output_type": "display_data"
    },
    {
     "name": "stdout",
     "output_type": "stream",
     "text": [
      "38062\n",
      "[('a', 'b'), ('a', 'c'), ('c', 'e'), ('c', 'd')]\n"
     ]
    },
    {
     "data": {
      "image/png": "[encoded data removed]",
      "text/plain": [
       "<Figure size 432x288 with 1 Axes>"
      ]
     },
     "metadata": {},
     "output_type": "display_data"
    },
    {
     "name": "stdout",
     "output_type": "stream",
     "text": [
      "39574\n",
      "[('a', 'b'), ('a', 'c'), ('c', 'e'), ('c', 'd')]\n"
     ]
    },
    {
     "data": {
      "image/png": "[encoded data removed]",
      "text/plain": [
       "<Figure size 432x288 with 1 Axes>"
      ]
     },
     "metadata": {},
     "output_type": "display_data"
    },
    {
     "name": "stdout",
     "output_type": "stream",
     "text": [
      "41506\n",
      "[('a', 'b'), ('a', 'c'), ('c', 'e'), ('c', 'd')]\n"
     ]
    },
    {
     "data": {
      "image/png": "[encoded data removed]",
      "text/plain": [
       "<Figure size 432x288 with 1 Axes>"
      ]
     },
     "metadata": {},
     "output_type": "display_data"
    },
    {
     "name": "stdout",
     "output_type": "stream",
     "text": [
      "42793\n",
      "[('a', 'b'), ('a', 'c'), ('c', 'd'), ('c', 'e')]\n"
     ]
    },
    {
     "data": {
      "image/png": "[encoded data removed]",
      "text/plain": [
       "<Figure size 432x288 with 1 Axes>"
      ]
     },
     "metadata": {},
     "output_type": "display_data"
    },
    {
     "name": "stdout",
     "output_type": "stream",
     "text": [
      "42873\n",
      "[('a', 'b'), ('a', 'c'), ('c', 'd'), ('c', 'e')]\n"
     ]
    },
    {
     "data": {
      "image/png": "[encoded data removed]",
      "text/plain": [
       "<Figure size 432x288 with 1 Axes>"
      ]
     },
     "metadata": {},
     "output_type": "display_data"
    },
    {
     "name": "stdout",
     "output_type": "stream",
     "text": [
      "46594\n",
      "[('a', 'b'), ('b', 'd'), ('c', 'd'), ('d', 'e')]\n"
     ]
    },
    {
     "data": {
      "image/png": "[encoded data removed]",
      "text/plain": [
       "<Figure size 432x288 with 1 Axes>"
      ]
     },
     "metadata": {},
     "output_type": "display_data"
    },
    {
     "name": "stdout",
     "output_type": "stream",
     "text": [
      "48699\n",
      "[('a', 'b'), ('a', 'c'), ('c', 'e'), ('c', 'd')]\n"
     ]
    },
    {
     "data": {
      "image/png": "[encoded data removed]",
      "text/plain": [
       "<Figure size 432x288 with 1 Axes>"
      ]
     },
     "metadata": {},
     "output_type": "display_data"
    },
    {
     "name": "stdout",
     "output_type": "stream",
     "text": [
      "50999\n",
      "[('a', 'b'), ('a', 'c'), ('c', 'e'), ('c', 'd')]\n"
     ]
    },
    {
     "data": {
      "image/png": "[encoded data removed]",
      "text/plain": [
       "<Figure size 432x288 with 1 Axes>"
      ]
     },
     "metadata": {},
     "output_type": "display_data"
    },
    {
     "name": "stdout",
     "output_type": "stream",
     "text": [
      "57928\n",
      "[('a', 'b'), ('a', 'c'), ('c', 'd'), ('c', 'e')]\n"
     ]
    },
    {
     "data": {
      "image/png": "[encoded data removed]",
      "text/plain": [
       "<Figure size 432x288 with 1 Axes>"
      ]
     },
     "metadata": {},
     "output_type": "display_data"
    },
    {
     "name": "stdout",
     "output_type": "stream",
     "text": [
      "59799\n",
      "[('a', 'b'), ('b', 'd'), ('c', 'd'), ('d', 'e')]\n"
     ]
    },
    {
     "data": {
      "image/png": "[encoded data removed]",
      "text/plain": [
       "<Figure size 432x288 with 1 Axes>"
      ]
     },
     "metadata": {},
     "output_type": "display_data"
    },
    {
     "name": "stdout",
     "output_type": "stream",
     "text": [
      "68170\n",
      "[('a', 'b'), ('b', 'd'), ('c', 'd'), ('d', 'e')]\n"
     ]
    },
    {
     "data": {
      "image/png": "[encoded data removed]",
      "text/plain": [
       "<Figure size 432x288 with 1 Axes>"
      ]
     },
     "metadata": {},
     "output_type": "display_data"
    },
    {
     "name": "stdout",
     "output_type": "stream",
     "text": [
      "69377\n",
      "[('a', 'b'), ('a', 'c'), ('c', 'd'), ('c', 'e')]\n"
     ]
    },
    {
     "data": {
      "image/png": "[encoded data removed]",
      "text/plain": [
       "<Figure size 432x288 with 1 Axes>"
      ]
     },
     "metadata": {},
     "output_type": "display_data"
    },
    {
     "name": "stdout",
     "output_type": "stream",
     "text": [
      "73053\n",
      "[('a', 'b'), ('b', 'd'), ('c', 'd'), ('d', 'e')]\n"
     ]
    },
    {
     "data": {
      "image/png": "[encoded data removed]",
      "text/plain": [
       "<Figure size 432x288 with 1 Axes>"
      ]
     },
     "metadata": {},
     "output_type": "display_data"
    },
    {
     "name": "stdout",
     "output_type": "stream",
     "text": [
      "80365\n",
      "[('a', 'b'), ('b', 'd'), ('c', 'd'), ('d', 'e')]\n"
     ]
    },
    {
     "data": {
      "image/png": "[encoded data removed]",
      "text/plain": [
       "<Figure size 432x288 with 1 Axes>"
      ]
     },
     "metadata": {},
     "output_type": "display_data"
    },
    {
     "name": "stdout",
     "output_type": "stream",
     "text": [
      "88485\n",
      "[('a', 'b'), ('a', 'c'), ('c', 'd'), ('c', 'e')]\n"
     ]
    },
    {
     "data": {
      "image/png": "[encoded data removed]",
      "text/plain": [
       "<Figure size 432x288 with 1 Axes>"
      ]
     },
     "metadata": {},
     "output_type": "display_data"
    },
    {
     "name": "stdout",
     "output_type": "stream",
     "text": [
      "89600\n",
      "[('a', 'b'), ('a', 'c'), ('c', 'e'), ('c', 'd')]\n"
     ]
    },
    {
     "data": {
      "image/png": "[encoded data removed]",
      "text/plain": [
       "<Figure size 432x288 with 1 Axes>"
      ]
     },
     "metadata": {},
     "output_type": "display_data"
    },
    {
     "name": "stdout",
     "output_type": "stream",
     "text": [
      "92711\n",
      "[('a', 'b'), ('b', 'd'), ('c', 'd'), ('d', 'e')]\n"
     ]
    },
    {
     "data": {
      "image/png": "[encoded data removed]",
      "text/plain": [
       "<Figure size 432x288 with 1 Axes>"
      ]
     },
     "metadata": {},
     "output_type": "display_data"
    },
    {
     "name": "stdout",
     "output_type": "stream",
     "text": [
      "95477\n",
      "[('a', 'b'), ('b', 'd'), ('c', 'd'), ('d', 'e')]\n"
     ]
    },
    {
     "data": {
      "image/png": "[encoded data removed]",
      "text/plain": [
       "<Figure size 432x288 with 1 Axes>"
      ]
     },
     "metadata": {},
     "output_type": "display_data"
    },
    {
     "name": "stdout",
     "output_type": "stream",
     "text": [
      "95706\n",
      "[('a', 'b'), ('a', 'c'), ('c', 'd'), ('c', 'e')]\n"
     ]
    },
    {
     "data": {
      "image/png": "[encoded data removed]",
      "text/plain": [
       "<Figure size 432x288 with 1 Axes>"
      ]
     },
     "metadata": {},
     "output_type": "display_data"
    },
    {
     "name": "stdout",
     "output_type": "stream",
     "text": [
      "99624\n"
     ]
    }
   ],
   "source": [
    "edges = (('a','b',{'weight1':1}),('a','c',{'weight1':1}),('d','b',{'weight1':1}),\n",
    "         ('c','d',{'weight1':1}),('c','e',{'weight1':1}),('e','d',{'weight1':1}))\n",
    "G = nx.Graph(edges)\n",
    "_min = 10000\n",
    "for i in range (100000):\n",
    "    H = pro(G,3,100,weight='weight1')\n",
    "    es = [ ('a', 'c'), ('b', 'd'),  ('c', 'e'), ('d', 'e')]\n",
    "    if(len(H.edges)<=4):\n",
    "        _min = len(H.edges)\n",
    "        print(H.edges)\n",
    "\n",
    "        # pos = nx.spring_layout(G)\n",
    "        # print(pos)\n",
    "        pos = {'a': [0, 2], 'b':[0, 0], \n",
    "               'c': [2, 2], 'd': [2,  0], \n",
    "               'e': [1, 1]}\n",
    "        nx.draw(H,pos,with_labels=True) # ture for node name\n",
    "        edge_labels = nx.get_edge_attributes(H,'weight1')\n",
    "        nx.draw_networkx_edges(H,pos)\n",
    "        nx.draw_networkx_edge_labels(H,pos,edge_labels=edge_labels)\n",
    "\n",
    "        plt.show()\n",
    "        print(i)\n",
    "        "
   ]
  },
  {
   "cell_type": "code",
   "execution_count": 219,
   "id": "5a9eb47f",
   "metadata": {},
   "outputs": [
    {
     "name": "stdout",
     "output_type": "stream",
     "text": [
      "[('a', 'b'), ('a', 'c'), ('b', 'd'), ('c', 'd'), ('c', 'e'), ('d', 'e')]\n"
     ]
    },
    {
     "data": {
      "image/png": "[encoded data removed]",
      "text/plain": [
       "<Figure size 432x288 with 1 Axes>"
      ]
     },
     "metadata": {},
     "output_type": "display_data"
    },
    {
     "data": {
      "text/plain": [
       "False"
      ]
     },
     "execution_count": 219,
     "metadata": {},
     "output_type": "execute_result"
    }
   ],
   "source": [
    "qedges = (('a','b',{'weight1':1}),('a','c',{'weight1':1}),('d','b',{'weight1':1}),\n",
    "         ('c','d',{'weight1':10}),('c','e',{'weight1':1}),('e','d',{'weight1':1}))\n",
    "G = nx.Graph(edges)\n",
    "\n",
    "pos = {'a': [0, 2], 'b':[0, 0], \n",
    "       'c': [2, 2], 'd': [2, 0], \n",
    "       'e': [1, 1]}\n",
    "nx.draw(G,pos,with_labels=True)\n",
    "edge_labels = nx.get_edge_attributes(G,'weight1')\n",
    "# nx.draw_networkx_edge_labels(G,pos,edge_labels=edge_labels)\n",
    "nx.draw_networkx_edges(G,pos)\n",
    "print(G.edges)\n",
    "plt.show()\n",
    "\n",
    "es == list(G.edges)"
   ]
  },
  {
   "cell_type": "code",
   "execution_count": 48,
   "id": "b6cd552f",
   "metadata": {},
   "outputs": [
    {
     "data": {
      "text/plain": [
       "5"
      ]
     },
     "execution_count": 48,
     "metadata": {},
     "output_type": "execute_result"
    }
   ],
   "source": [
    "edges = (('a','b',{'weight1':1}),('a','c',{'weight1':1}),('d','b',{'weight1':1}),\n",
    "         ('c','d',{'weight1':10}),('c','e',{'weight1':1}),('e','d',{'weight1':1}))\n",
    "G = nx.Graph(edges)\n",
    "G.remove_edges_from([['a','b'],['a','c']])\n",
    "G.edges\n",
    "G.nodes\n",
    "\n",
    "m= [[() for j in range (5)] for i in range (5)]\n",
    "len(m[0])    "
   ]
  },
  {
   "cell_type": "markdown",
   "id": "8d83c2f8",
   "metadata": {},
   "source": [
    "## weighted probabilistic "
   ]
  },
  {
   "cell_type": "code",
   "execution_count": 2,
   "id": "35c0057f",
   "metadata": {},
   "outputs": [],
   "source": [
    "import networkx as nx\n",
    "import numpy as np\n",
    "import math\n",
    "\n",
    "def spanner(G, stretch, weight=None):"
   ]
  },
  {
   "cell_type": "code",
   "execution_count": 91,
   "id": "abac049d",
   "metadata": {},
   "outputs": [],
   "source": [
    "def ESTCluster(G, beta,weight = None):\n",
    "    \n",
    "    \"\"\"\n",
    "    Input: Graph G = (V, E, w), parameter 0 < β < 1.\n",
    "    Output: Decomposition of G.\n",
    "    \"\"\"\n",
    "    \n",
    "    #For each vertex u, \n",
    "    #pick δu independently from the exponential distribution exp(β).\n",
    "    exp = {}\n",
    "    for node in G.nodes:\n",
    "        ru = np.random.exponential(beta)\n",
    "        exp[node] = ru\n",
    "    print(exp)\n",
    "    # Create clusters \n",
    "    # by assigning each v ∈ V to u = argmin u∈V {dist(u, v) − δu},\n",
    "    # if v = u we let it be the center its cluster.\n",
    "    cluster = { v : v for v in G.nodes}\n",
    "    for v in G.nodes:\n",
    "        dist_v = {}\n",
    "        \n",
    "        for u in G.nodes:\n",
    "            dist_v[u] = nx.dijkstra_path_length(G,u,v,weight)- exp[u]\n",
    "            \n",
    "        _min = min( dist_v, key = dist_v.get )\n",
    "        \n",
    "        cluster[v] = _min\n",
    "#     print(cluster)\n",
    "\n",
    "    # Return the clusters along with a spanning tree on each\n",
    "    # cluster rooted at its center.\n",
    "    clustering = {}\n",
    "    for k, v in cluster.items():\n",
    "        clustering.setdefault(v, set()).add(k)\n",
    "        \n",
    "    all_nodes = set(G.nodes)\n",
    "    MST = {}\n",
    "    for k, v in clustering.items():\n",
    "        nodes_to_remove = all_nodes - v\n",
    "        subgraph = nx.Graph(G.edges)\n",
    "        subgraph.remove_nodes_from(nodes_to_remove)\n",
    "        \n",
    "        mst = nx.minimum_spanning_tree(subgraph,weight= weight)\n",
    "        MST[mst] = k\n",
    "        \n",
    "        \n",
    "        \n",
    "    return MST\n",
    "            \n",
    "        \n",
    "    "
   ]
  },
  {
   "cell_type": "code",
   "execution_count": 97,
   "id": "55a8c8dd",
   "metadata": {},
   "outputs": [
    {
     "name": "stdout",
     "output_type": "stream",
     "text": [
      "{'a': 0.25108744551321655, 'b': 0.500186410354837, 'c': 1.2648535183068652, 'd': 0.9798081619303972, 'f': 1.219671699200648}\n",
      "{'a': 'c', 'b': 'b', 'c': 'c', 'd': 'd', 'f': 'f'}\n",
      "4\n",
      "MST is {<networkx.classes.graph.Graph object at 0x000001EBC96E2F10>: 'c', <networkx.classes.graph.Graph object at 0x000001EBC96E28B0>: 'b', <networkx.classes.graph.Graph object at 0x000001EBC96E2100>: 'd', <networkx.classes.graph.Graph object at 0x000001EBC96E2AF0>: 'f'}\n",
      "=======\n",
      "mst is ['a', 'c'] + edges is [('a', 'c')] + center is c\n",
      "=======\n",
      "mst is ['b'] + edges is [] + center is b\n",
      "=======\n",
      "mst is ['d'] + edges is [] + center is d\n",
      "=======\n",
      "mst is ['f'] + edges is [] + center is f\n",
      "=======\n"
     ]
    }
   ],
   "source": [
    "edges = (('a','b',{'weight1':1}),('a','c',{'weight1':1}),('d','b',{'weight1':1}),\n",
    "         ('c','d',{'weight1':100}),('c','f',{'weight1':1}),('f','d',{'weight1':1}))\n",
    "G = nx.Graph(edges)\n",
    "# exp = {}\n",
    "# for node in G.nodes:\n",
    "#     ru = np.random.exponential(0.7)\n",
    "#     exp[node] = ru\n",
    "# cluster = { v : None for v in G.nodes}\n",
    "x = ESTCluster(G, 0.7, weight = \"weight\")\n",
    "print( 'MST is {}'.format(x))\n",
    "print(\"=======\")\n",
    "for k,v in x.items():\n",
    "    print(\"mst is {} + edges is {} + center is {}\".format(k.nodes, k.edges,v))\n",
    "    print(\"=======\")"
   ]
  },
  {
   "cell_type": "code",
   "execution_count": 66,
   "id": "f21efec2",
   "metadata": {},
   "outputs": [
    {
     "data": {
      "text/plain": [
       "EdgeView([])"
      ]
     },
     "execution_count": 66,
     "metadata": {},
     "output_type": "execute_result"
    }
   ],
   "source": [
    "G = nx.Graph()\n",
    "G.add_node('a')\n",
    "es = nx.minimum_spanning_edges(G,data = False)\n",
    "es1 = nx.minimum_spanning_tree(G)\n",
    "for e in es:\n",
    "    print(e)\n",
    "es1.nodes\n",
    "es1.edges"
   ]
  },
  {
   "cell_type": "code",
   "execution_count": 363,
   "id": "99dec8a2",
   "metadata": {},
   "outputs": [
    {
     "data": {
      "text/plain": [
       "EdgeView([('a', 'b'), ('a', 'c'), ('b', 'd'), ('c', 'f')])"
      ]
     },
     "execution_count": 363,
     "metadata": {},
     "output_type": "execute_result"
    }
   ],
   "source": [
    "edges = (('a','b',{'weight':1}),('a','c',{'weight':1}),('d','b',{'weight':1}),\n",
    "         ('c','d',{'weight':1}),('c','f',{'weight':1}),('f','d',{'weight':1}))\n",
    "edges = (('a','b'),('a','c'),('d','b'),\n",
    "         ('c','d'),('c','f'),('f','d'))\n",
    "\n",
    "G = nx.Graph(edges)\n",
    "\n",
    "gp= pro(G,3,10,weight='weight')\n",
    "\n",
    "gp.edges\n"
   ]
  },
  {
   "cell_type": "code",
   "execution_count": 83,
   "id": "2f0b369e",
   "metadata": {},
   "outputs": [
    {
     "name": "stdout",
     "output_type": "stream",
     "text": [
      "['a', 'c', 'f']\n"
     ]
    },
    {
     "data": {
      "text/plain": [
       "EdgeView([('a', 'b'), ('a', 'c'), ('b', 'd'), ('c', 'd'), ('c', 'f'), ('d', 'f')])"
      ]
     },
     "execution_count": 83,
     "metadata": {},
     "output_type": "execute_result"
    }
   ],
   "source": [
    "print(nx.dijkstra_path(G,'a','f',\"weight\"))\n",
    "nx.dijkstra_path(G,'f','a',None)\n",
    "\n",
    "x = nx.Graph(G.edges)\n",
    "x.edges"
   ]
  },
  {
   "cell_type": "code",
   "execution_count": 81,
   "id": "9e976cc4",
   "metadata": {},
   "outputs": [
    {
     "data": {
      "text/plain": [
       "{2, 3}"
      ]
     },
     "execution_count": 81,
     "metadata": {},
     "output_type": "execute_result"
    }
   ],
   "source": [
    "import networkx as nx\n",
    "下 = nx.spanner(G,3)\n",
    "下.edges\n",
    "a =  {1,2,3}\n",
    "b= {1}\n",
    "c = [i for i in a if i not in b]\n",
    "c = a- b\n",
    "c"
   ]
  },
  {
   "cell_type": "markdown",
   "id": "ad7a3223",
   "metadata": {},
   "source": [
    "# clustering and path buying"
   ]
  },
  {
   "cell_type": "code",
   "execution_count": 231,
   "id": "040984a5",
   "metadata": {},
   "outputs": [],
   "source": [
    "import networkx as nx\n",
    "import numpy as np\n",
    "import math\n",
    "\n",
    "from networkx.utils import not_implemented_for, py_random_state\n",
    "\n",
    "__all__ = [\"spanner\"]\n",
    "\n",
    "@py_random_state(3)\n",
    "@not_implemented_for(\"directed\")\n",
    "@not_implemented_for(\"multigraph\")\n",
    "def spanner(G, stretch, weight=None, seed=None):\n",
    "    \"\"\"Returns a spanner of the given graph with the given stretch.\n",
    "\n",
    "    A spanner of a graph G = (V, E) with stretch t is a subgraph\n",
    "    H = (V, E_S) such that E_S is a subset of E and the distance between\n",
    "    any pair of nodes in H is at most t times the distance between the\n",
    "    nodes in G.\n",
    "\n",
    "    Parameters\n",
    "    ----------\n",
    "    G : NetworkX graph\n",
    "        An undirected simple graph.\n",
    "\n",
    "    stretch : float\n",
    "        The stretch of the spanner.\n",
    "\n",
    "    weight : object\n",
    "        The edge attribute to use as distance.\n",
    "\n",
    "    seed : integer, random_state, or None (default)\n",
    "        Indicator of random number generation state.\n",
    "        See :ref:`Randomness<randomness>`.\n",
    "\n",
    "    Returns\n",
    "    -------\n",
    "    NetworkX graph\n",
    "        A spanner of the given graph with the given stretch.\n",
    "\n",
    "    Raises\n",
    "    ------\n",
    "    ValueError\n",
    "        If a stretch less than 1 is given.\n",
    "\n",
    "    Notes\n",
    "    -----\n",
    "    This function implements the spanner algorithm by Baswana and Sen,\n",
    "    see [1].\n",
    "\n",
    "    This algorithm is a randomized las vegas algorithm: The expected\n",
    "    running time is O(km) where k = (stretch + 1) // 2 and m is the\n",
    "    number of edges in G. The returned graph is always a spanner of the\n",
    "    given graph with the specified stretch. For weighted graphs the\n",
    "    number of edges in the spanner is O(k * n^(1 + 1 / k)) where k is\n",
    "    defined as above and n is the number of nodes in G. For unweighted\n",
    "    graphs the number of edges is O(n^(1 + 1 / k) + kn).\n",
    "\n",
    "    References\n",
    "    ----------\n",
    "    [1] S. Baswana, S. Sen. A Simple and Linear Time Randomized\n",
    "    Algorithm for Computing Sparse Spanners in Weighted Graphs.\n",
    "    Random Struct. Algorithms 30(4): 532-563 (2007).\n",
    "    \"\"\"\n",
    "    if stretch < 1:\n",
    "        raise ValueError(\"stretch must be at least 1\")\n",
    "\n",
    "    k = (stretch + 1) // 2\n",
    "\n",
    "    # initialize spanner H with empty edge set\n",
    "    H = nx.empty_graph()\n",
    "    H.add_nodes_from(G.nodes)\n",
    "\n",
    "    # phase 1: forming the clusters\n",
    "    # the residual graph has V' from the paper as its node set\n",
    "    # and E' from the paper as its edge set\n",
    "    residual_graph = _setup_residual_graph(G, weight)\n",
    "    # clustering is a dictionary that maps nodes in a cluster to the\n",
    "    # cluster center\n",
    "    clustering = {v: v for v in G.nodes}\n",
    "    sample_prob = math.pow(G.number_of_nodes(), -1 / k)\n",
    "    size_limit = 2 * math.pow(G.number_of_nodes(), 1 + 1 / k)\n",
    "\n",
    "    i = 0\n",
    "    while i < k - 1:\n",
    "        # step 1: sample centers\n",
    "        sampled_centers = set()\n",
    "        for center in set(clustering.values()):\n",
    "            #test3\n",
    "#             print(seed.random())\n",
    "#             print(sample_prob)\n",
    "            if seed.random() < sample_prob:\n",
    "                sampled_centers.add(center)\n",
    "\n",
    "        # combined loop for steps 2 and 3\n",
    "        edges_to_add = set()\n",
    "        edges_to_remove = set()\n",
    "        new_clustering = {}\n",
    "        for v in residual_graph.nodes:\n",
    "            if clustering[v] in sampled_centers:\n",
    "                continue\n",
    "\n",
    "            # step 2: find neighboring (sampled) clusters and\n",
    "            # lightest edges to them\n",
    "            lightest_edge_neighbor, lightest_edge_weight = _lightest_edge_dicts(\n",
    "                residual_graph, clustering, v\n",
    "            )\n",
    "            neighboring_sampled_centers = (\n",
    "                set(lightest_edge_weight.keys()) & sampled_centers\n",
    "            )\n",
    "\n",
    "            # step 3: add edges to spanner\n",
    "            if not neighboring_sampled_centers:\n",
    "                # connect to each neighboring center via lightest edge\n",
    "                for neighbor in lightest_edge_neighbor.values():\n",
    "                    edges_to_add.add((v, neighbor))\n",
    "                    \n",
    "                # remove all incident edges\n",
    "                for neighbor in residual_graph.adj[v]:\n",
    "                    if(neighbor in clustering.keys()):\n",
    "                        edges_to_remove.add((v, neighbor))\n",
    "\n",
    "            else:  # there is a neighboring sampled center\n",
    "                closest_center = min(\n",
    "                    neighboring_sampled_centers, key=lightest_edge_weight.get\n",
    "                )\n",
    "                closest_center_weight = lightest_edge_weight[closest_center]\n",
    "                closest_center_neighbor = lightest_edge_neighbor[closest_center]\n",
    "\n",
    "                edges_to_add.add((v, closest_center_neighbor))\n",
    "                #test1 错误，要把所有 v 到closest 的边都删除\n",
    "#                 edges_to_remove.add((v, closest_center_neighbor))\n",
    "                new_clustering[v] = closest_center\n",
    "\n",
    "                # connect to centers with edge weight less than\n",
    "                # closest_center_weight\n",
    "                for center, edge_weight in lightest_edge_weight.items():\n",
    "                    if edge_weight < closest_center_weight:\n",
    "                        neighbor = lightest_edge_neighbor[center]\n",
    "                        edges_to_add.add((v, neighbor))\n",
    "                        #test2\n",
    "#                         edges_to_remove.add((v, neighbor))\n",
    "\n",
    "                # remove edges to centers with edge weight less than\n",
    "                # closest_center_weight\n",
    "             \n",
    "                for neighbor in residual_graph.adj[v]:\n",
    "                    if(neighbor in clustering.keys()):\n",
    "                        neighbor_cluster = clustering[neighbor]\n",
    "                        neighbor_weight = lightest_edge_weight[neighbor_cluster]\n",
    "                        if (\n",
    "                            neighbor_cluster == closest_center\n",
    "                            or neighbor_weight < closest_center_weight\n",
    "                        ):\n",
    "                            edges_to_remove.add((v, neighbor))\n",
    "                \n",
    "\n",
    "        # check whether iteration added too many edges to spanner,\n",
    "        # if so repeat\n",
    "        if len(edges_to_add) > size_limit:\n",
    "            # an iteration is repeated O(1) times on expectation\n",
    "            continue\n",
    "\n",
    "        # iteration succeeded\n",
    "        i = i + 1\n",
    "\n",
    "        # actually add edges to spanner\n",
    "        for u, v in edges_to_add:\n",
    "            _add_edge_to_spanner(H, residual_graph, u, v, weight)\n",
    "\n",
    "        # actually delete edges from residual graph\n",
    "        residual_graph.remove_edges_from(edges_to_remove)\n",
    "\n",
    "        # copy old clustering data to new_clustering\n",
    "        for node, center in clustering.items():\n",
    "            if center in sampled_centers:\n",
    "                new_clustering[node] = center\n",
    "        clustering = new_clustering\n",
    "        \n",
    "        # step 4: remove intra-cluster edges\n",
    "        for u in residual_graph.nodes:\n",
    "            for v in list(residual_graph.adj[u]):\n",
    "                if clustering[u] == clustering[v]:\n",
    "                    residual_graph.remove_edge(u, v)\n",
    "\n",
    "        # update residual graph node set\n",
    "        for v in list(residual_graph.nodes):\n",
    "            if v not in clustering:\n",
    "                residual_graph.remove_node(v)\n",
    "\n",
    "    # phase 2: vertex-cluster joining\n",
    "    for v in residual_graph.nodes:\n",
    "        lightest_edge_neighbor, _ = _lightest_edge_dicts(residual_graph, clustering, v)\n",
    "        for neighbor in lightest_edge_neighbor.values():\n",
    "            _add_edge_to_spanner(H, residual_graph, v, neighbor, weight)\n",
    "\n",
    "    return H"
   ]
  },
  {
   "cell_type": "code",
   "execution_count": 42,
   "id": "7ddab089",
   "metadata": {},
   "outputs": [],
   "source": [
    "\n",
    "def _setup_residual_graph(G, weight):\n",
    "    \"\"\"Setup residual graph as a copy of G with unique edges weights.\n",
    "\n",
    "    The node set of the residual graph corresponds to the set V' from\n",
    "    the Baswana-Sen paper and the edge set corresponds to the set E'\n",
    "    from the paper.\n",
    "\n",
    "    This function associates distinct weights to the edges of the\n",
    "    residual graph (even for unweighted input graphs), as required by\n",
    "    the algorithm.\n",
    "\n",
    "    Parameters\n",
    "    ----------\n",
    "    G : NetworkX graph\n",
    "        An undirected simple graph.\n",
    "\n",
    "    weight : object\n",
    "        The edge attribute to use as distance.\n",
    "\n",
    "    Returns\n",
    "    -------\n",
    "    NetworkX graph\n",
    "        The residual graph used for the Baswana-Sen algorithm.\n",
    "    \"\"\"\n",
    "    residual_graph = G.copy()\n",
    "\n",
    "    # establish unique edge weights, even for unweighted graphs\n",
    "    for u, v in G.edges():\n",
    "        if not weight:\n",
    "            residual_graph[u][v][\"weight\"] = (id(u), id(v))\n",
    "        else:\n",
    "            residual_graph[u][v][\"weight\"] = (G[u][v][weight], id(u), id(v))\n",
    "\n",
    "    return residual_graph\n",
    "\n",
    "\n",
    "def _lightest_edge_dicts(residual_graph, clustering, node):\n",
    "    \"\"\"Find the lightest edge to each cluster.\n",
    "\n",
    "    Searches for the minimum-weight edge to each cluster adjacent to\n",
    "    the given node.\n",
    "\n",
    "    Parameters\n",
    "    ----------\n",
    "    residual_graph : NetworkX graph\n",
    "        The residual graph used by the Baswana-Sen algorithm.\n",
    "\n",
    "    clustering : dictionary\n",
    "        The current clustering of the nodes.\n",
    "\n",
    "    node : node\n",
    "        The node from which the search originates.\n",
    "\n",
    "    Returns\n",
    "    -------\n",
    "    lightest_edge_neighbor, lightest_edge_weight : dictionary, dictionary\n",
    "        lightest_edge_neighbor is a dictionary that maps a center C to\n",
    "        a node v in the corresponding cluster such that the edge from\n",
    "        the given node to v is the lightest edge from the given node to\n",
    "        any node in cluster. lightest_edge_weight maps a center C to the\n",
    "        weight of the aforementioned edge.\n",
    "\n",
    "    Notes\n",
    "    -----\n",
    "    If a cluster has no node that is adjacent to the given node in the\n",
    "    residual graph then the center of the cluster is not a key in the\n",
    "    returned dictionaries.\n",
    "    \"\"\"\n",
    "    lightest_edge_neighbor = {}\n",
    "    lightest_edge_weight = {}\n",
    "    for neighbor in residual_graph.adj[node]:\n",
    "        neighbor_center = clustering[neighbor]\n",
    "        weight = residual_graph[node][neighbor][\"weight\"]\n",
    "        if (\n",
    "            neighbor_center not in lightest_edge_weight\n",
    "            or weight < lightest_edge_weight[neighbor_center]\n",
    "        ):\n",
    "            lightest_edge_neighbor[neighbor_center] = neighbor\n",
    "            lightest_edge_weight[neighbor_center] = weight\n",
    "    return lightest_edge_neighbor, lightest_edge_weight\n"
   ]
  },
  {
   "cell_type": "code",
   "execution_count": 43,
   "id": "9f604f43",
   "metadata": {},
   "outputs": [],
   "source": [
    "def _add_edge_to_spanner(H, residual_graph, u, v, weight):\n",
    "    \"\"\"Add the edge {u, v} to the spanner H and take weight from\n",
    "    the residual graph.\n",
    "\n",
    "    Parameters\n",
    "    ----------\n",
    "    H : NetworkX graph\n",
    "        The spanner under construction.\n",
    "\n",
    "    residual_graph : NetworkX graph\n",
    "        The residual graph used by the Baswana-Sen algorithm. The weight\n",
    "        for the edge is taken from this graph.\n",
    "\n",
    "    u : node\n",
    "        One endpoint of the edge.\n",
    "\n",
    "    v : node\n",
    "        The other endpoint of the edge.\n",
    "\n",
    "    weight : object\n",
    "        The edge attribute to use as distance.\n",
    "    \"\"\"\n",
    "    H.add_edge(u, v)\n",
    "    if weight:\n",
    "        H[u][v][weight] = residual_graph[u][v][\"weight\"][0]"
   ]
  },
  {
   "cell_type": "code",
   "execution_count": 240,
   "id": "55e6b7fd",
   "metadata": {},
   "outputs": [
    {
     "name": "stdout",
     "output_type": "stream",
     "text": [
      "[('a', 'b'), ('a', 'c'), ('b', 'd'), ('c', 'f'), ('d', 'f')]\n",
      "0\n",
      "[('a', 'c'), ('b', 'd'), ('c', 'f'), ('d', 'f')]\n",
      "45\n"
     ]
    },
    {
     "data": {
      "text/plain": [
       "AtlasView({'b': {'weight1': 1}, 'c': {'weight1': 1}})"
      ]
     },
     "execution_count": 240,
     "metadata": {},
     "output_type": "execute_result"
    }
   ],
   "source": [
    "# import networkx as nx\n",
    "# import numpy as np\n",
    "# import math\n",
    "\n",
    "# test = nx.empty_graph()\n",
    "# print(test.nodes)\n",
    "# type(test.edges)\n",
    "\n",
    "edges = (('a','b',{'weight1':1}),('a','c',{'weight1':1}),('d','b',{'weight1':1}),\n",
    "         ('c','d',{'weight1':10}),('c','f',{'weight1':1}),('d','f',{'weight1':1}))\n",
    "# edges = (('a','b'),('a','c'),('d','b'),\n",
    "#          ('c','d'),('c','f'),('f','d'))\n",
    "\n",
    "G = nx.Graph(edges)\n",
    "G.edges()\n",
    "min_ = 10\n",
    "for i in range (1000): \n",
    "    xx = spanner(G,5,\"weight1\")\n",
    "    if(len(xx.edges) < min_):\n",
    "        edg = xx.edges\n",
    "        min_ = len(edg)\n",
    "        print(edg  )\n",
    "        print(i)\n",
    "# xx = nx.spanner(G,5,\"weight1\")\n",
    "# print(len(xx.edges    )\n",
    "# G['a']['b'][\"weight1\"][0]\n",
    "G['a']"
   ]
  },
  {
   "cell_type": "code",
   "execution_count": 68,
   "id": "4efd1686",
   "metadata": {},
   "outputs": [
    {
     "name": "stdout",
     "output_type": "stream",
     "text": [
      "1695058952816\n",
      "1695058952816\n",
      "1695058941232\n",
      "1695058941232\n"
     ]
    },
    {
     "data": {
      "text/plain": [
       "{'a': 'a', 'b': 'b', 'c': 'c', 'd': 'd', 'f': 'f'}"
      ]
     },
     "execution_count": 68,
     "metadata": {},
     "output_type": "execute_result"
    }
   ],
   "source": [
    "edges = (('a','b',{'weight':1}),('a','c',{'weight':1}),('d','b',{'weight':1}),\n",
    "         ('c','d',{'weight':1}),('c','f',{'weight':1}),('f','d',{'weight':1}))\n",
    "# edges = (('a','b'),('a','c'),('d','b'),\n",
    "#          ('c','d'),('c','f'),('f','d'))\n",
    "\n",
    "G = nx.Graph(edges)\n",
    "G.edges()\n",
    "# for a in G.edges():\n",
    "#     if not weight:\n",
    "#         residual_graph[u][v][\"weight\"] = (id(u), id(v))\n",
    "#     else:\n",
    "#         residual_graph[u][v][\"weight\"] = (G[u][v][weight], id(u), id(v))\n",
    "G['a']['b']\n",
    "print(id('a'))\n",
    "print(id('a'))\n",
    "print(id('b'))\n",
    "print(id('b'))\n",
    "id('a')\n",
    "clustering = {v: v for v in G.nodes}\n",
    "clustering"
   ]
  },
  {
   "cell_type": "code",
   "execution_count": 586,
   "id": "753ea03e",
   "metadata": {},
   "outputs": [
    {
     "name": "stdout",
     "output_type": "stream",
     "text": [
      "0.32777281162209315\n"
     ]
    }
   ],
   "source": [
    "import random\n",
    "# seed = 1\n",
    "# seed.random() <6\n",
    "from networkx.utils import not_implemented_for, py_random_state\n",
    "\n",
    "\n",
    "@py_random_state(0)\n",
    "def te(seed = None):\n",
    "     print(seed.random())\n",
    "te()     "
   ]
  },
  {
   "cell_type": "code",
   "execution_count": 137,
   "id": "b402b753",
   "metadata": {},
   "outputs": [
    {
     "data": {
      "text/plain": [
       "'a'"
      ]
     },
     "execution_count": 137,
     "metadata": {},
     "output_type": "execute_result"
    }
   ],
   "source": [
    "x = {'a':6,'b':2}\n",
    "y = {'a':1,'b':2,'c' :0}\n",
    "key = x.get\n",
    "c = ('c','d')\n",
    "min(x,key = y.get)\n"
   ]
  },
  {
   "cell_type": "code",
   "execution_count": 339,
   "id": "98c2eeb8",
   "metadata": {},
   "outputs": [],
   "source": [
    "edges = (('a','b',{'weight':1}),('a','c',{'weight':1}),('d','b',{'weight':1}),\n",
    "         ('c','d',{'weight':10}),('c','e',{'weight':1}),('e','d',{'weight':1}))\n",
    "# edges = (('a','b'),('a','c'),('d','b'),\n",
    "#          ('c','d'),('c','f'),('f','d'))\n",
    "\n",
    "G = nx.Graph(edges)\n",
    "\n",
    "H = nx.spanner(G,3,'weight')\n",
    "\n",
    "for i in range(1000000):\n",
    "    if(len(H.edges)<5):\n",
    "        \n",
    "        pos = {'a': [0, 2], 'b':[0, 0], \n",
    "               'c': [2, 2], 'd': [2, 0], \n",
    "               'e': [1, 1]}\n",
    "        nx.draw(H,pos,with_labels=True)\n",
    "        edge_labels = nx.get_edge_attributes(H,'weight')\n",
    "        nx.draw_networkx_edge_labels(H,pos,edge_labels=edge_labels)\n",
    "        # nx.draw_networkx_edges(G,pos)\n",
    "        \n",
    "        plt.show()\n",
    "        break"
   ]
  }
 ],
 "metadata": {
  "kernelspec": {
   "display_name": "Python 3 (ipykernel)",
   "language": "python",
   "name": "python3"
  },
  "language_info": {
   "codemirror_mode": {
    "name": "ipython",
    "version": 3
   },
   "file_extension": ".py",
   "mimetype": "text/x-python",
   "name": "python",
   "nbconvert_exporter": "python",
   "pygments_lexer": "ipython3",
   "version": "3.9.7"
  },
  "toc": {
   "base_numbering": 1,
   "nav_menu": {},
   "number_sections": true,
   "sideBar": true,
   "skip_h1_title": false,
   "title_cell": "Table of Contents",
   "title_sidebar": "Contents",
   "toc_cell": false,
   "toc_position": {
    "height": "calc(100% - 180px)",
    "left": "10px",
    "top": "150px",
    "width": "204.795px"
   },
   "toc_section_display": true,
   "toc_window_display": false
  }
 },
 "nbformat": 4,
 "nbformat_minor": 5
}
